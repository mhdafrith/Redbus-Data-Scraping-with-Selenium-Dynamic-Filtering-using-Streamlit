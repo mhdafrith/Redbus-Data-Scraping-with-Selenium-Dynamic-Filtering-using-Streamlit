{
 "cells": [
  {
   "cell_type": "code",
   "execution_count": 2,
   "metadata": {},
   "outputs": [],
   "source": [
    "from selenium import webdriver\n",
    "from selenium.webdriver.common.by import By\n",
    "from selenium.webdriver.common.keys import Keys\n",
    "from selenium.webdriver.support.ui import WebDriverWait\n",
    "from selenium.webdriver.support import expected_conditions as EC\n",
    "from selenium.webdriver.common.action_chains import ActionChains\n",
    "import time\n",
    "import pandas as pd\n",
    "def scroll():\n",
    "    last_height = driver.execute_script(\"return document.body.scrollHeight\")\n",
    "\n",
    "    while True:\n",
    "\n",
    "        # Scroll down to the bottom in order to load all the buses\n",
    "\n",
    "        driver.execute_script(\"window.scrollTo(0, document.body.scrollHeight);\")\n",
    "\n",
    "        # Wait for page to load\n",
    "\n",
    "        time.sleep(2)\n",
    "\n",
    "        # Calculate new scroll height and compare with last scroll height\n",
    "\n",
    "        new_height = driver.execute_script(\"return document.body.scrollHeight\")\n",
    "\n",
    "        # If it is the same height then it is at the end of the page\n",
    "        if new_height == last_height:\n",
    "            break\n",
    "\n",
    "        last_height = new_height"
   ]
  },
  {
   "cell_type": "code",
   "execution_count": 3,
   "metadata": {},
   "outputs": [
    {
     "name": "stdout",
     "output_type": "stream",
     "text": [
      "done\n"
     ]
    }
   ],
   "source": [
    "\n",
    "df=pd.read_csv(\"df_bsrtc.csv\")\n",
    "driver = webdriver.Chrome()\n",
    "wait = WebDriverWait(driver, 30)\n",
    "route_name=[]\n",
    "route_link=[]\n",
    "busname=[]\n",
    "bustype=[]\n",
    "departing_time=[]\n",
    "duration=[]\n",
    "reaching_time=[]\n",
    "star_rating=[]\n",
    "\n",
    "for i,r in df.iterrows():\n",
    "    link=r[\"route_link\"]\n",
    "    routes=r[\"route_name\"]\n",
    "\n",
    "    driver.get(link)\n",
    "    time.sleep(5)\n",
    "    linking=driver.find_elements(By.XPATH,f\"//a[contains(@href, '{link}')]\")\n",
    "    for i in linking:\n",
    "        i.click()\n",
    "        time.sleep(3)\n",
    "    \n",
    "\n",
    "    try:\n",
    "        \n",
    "        driver.find_element(By.XPATH, \"//div[@class='button']\").click()\n",
    "    except:\n",
    "        continue\n",
    "    time.sleep(3)\n",
    "    #driver.find_element(By.XPATH,'//*[@id=\"fixer\"]/div/div/div[1]/span[3]/i')\n",
    "    scroll()\n",
    "\n",
    "\n",
    "    #scraping bus details\n",
    "    bus_name=driver.find_elements(By.XPATH,\"//div[@class='travels lh-24 f-bold d-color']\")\n",
    "    bus_type=driver.find_elements(By.XPATH,\"//div[@class='bus-type f-12 m-top-16 l-color evBus']\")\n",
    "    dp_time=driver.find_elements(By.XPATH,\"//div[@class='dp-time f-19 d-color f-bold']\")\n",
    "    duration_time=driver.find_elements(By.XPATH,\"//div[@class='dur l-color lh-24']\")\n",
    "    arr_time=driver.find_elements(By.XPATH,\"//div[@class='bp-time f-19 d-color disp-Inline']\")\n",
    "    try:\n",
    "        str_rat=driver.find_elements(By.XPATH,\"//div[@class='clearfix row-one']/div[@class='column-six p-right-10 w-10 fl']\")\n",
    "\n",
    "    except:\n",
    "        continue\n",
    "\n",
    "\n",
    "    for a in bus_name:\n",
    "        busname.append(a.text)\n",
    "        route_link.append(link)\n",
    "        route_name.append(routes)\n",
    "    for b in bus_type:\n",
    "        bustype.append(b.text)\n",
    "    for c in dp_time:\n",
    "        departing_time.append(c.text)\n",
    "    for d in duration_time:\n",
    "        duration.append(d.text)\n",
    "    for e in arr_time:\n",
    "        reaching_time.append(e.text)\n",
    "    for f in str_rat:\n",
    "        star_rating.append(f.text)\n",
    "\n",
    "driver.quit()\n",
    "print('done')"
   ]
  },
  {
   "cell_type": "code",
   "execution_count": 4,
   "metadata": {},
   "outputs": [],
   "source": [
    "import pandas as pd\n",
    "data={'route_name':route_name,\n",
    "      'route_link':route_link,\n",
    "      'busname':busname,\n",
    "      'bustype':bustype,\n",
    "      'departing_time':departing_time,\n",
    "      'duration':duration,\n",
    "      'reaching_time':reaching_time,\n",
    "      'star_rating':star_rating}\n",
    "df_all_bsrtc=pd.DataFrame(data)"
   ]
  },
  {
   "cell_type": "code",
   "execution_count": 5,
   "metadata": {},
   "outputs": [],
   "source": [
    "dir='/Users/mohamedafrith/Desktop/redbus_project'\n",
    "filename='df_all_bsrtc.csv'\n",
    "path=f'{dir}/{filename}'\n",
    "df_all_bsrtc.to_csv(path,index=False)"
   ]
  },
  {
   "cell_type": "code",
   "execution_count": 7,
   "metadata": {},
   "outputs": [
    {
     "name": "stdout",
     "output_type": "stream",
     "text": [
      "                                 route_name  \\\n",
      "0                   Hyderabad to Vijayawada   \n",
      "1                   Hyderabad to Vijayawada   \n",
      "2                   Hyderabad to Vijayawada   \n",
      "3                   Hyderabad to Vijayawada   \n",
      "4                   Hyderabad to Vijayawada   \n",
      "...                                     ...   \n",
      "10175  Patna (Bihar) to Muzaffarpur (Bihar)   \n",
      "10176  Patna (Bihar) to Muzaffarpur (Bihar)   \n",
      "10177  Patna (Bihar) to Muzaffarpur (Bihar)   \n",
      "10178  Patna (Bihar) to Muzaffarpur (Bihar)   \n",
      "10179  Patna (Bihar) to Muzaffarpur (Bihar)   \n",
      "\n",
      "                                              route_link  \\\n",
      "0      https://www.redbus.in/bus-tickets/hyderabad-to...   \n",
      "1      https://www.redbus.in/bus-tickets/hyderabad-to...   \n",
      "2      https://www.redbus.in/bus-tickets/hyderabad-to...   \n",
      "3      https://www.redbus.in/bus-tickets/hyderabad-to...   \n",
      "4      https://www.redbus.in/bus-tickets/hyderabad-to...   \n",
      "...                                                  ...   \n",
      "10175  https://www.redbus.in/bus-tickets/patna-to-muz...   \n",
      "10176  https://www.redbus.in/bus-tickets/patna-to-muz...   \n",
      "10177  https://www.redbus.in/bus-tickets/patna-to-muz...   \n",
      "10178  https://www.redbus.in/bus-tickets/patna-to-muz...   \n",
      "10179  https://www.redbus.in/bus-tickets/patna-to-muz...   \n",
      "\n",
      "                            busname                                bustype  \\\n",
      "0                          FRESHBUS              Electric A/C Seater (2+2)   \n",
      "1                          FRESHBUS              Electric A/C Seater (2+2)   \n",
      "2                          FRESHBUS              Electric A/C Seater (2+2)   \n",
      "3                        AdYolo Bus  Bharat Benz A/C Seater /Sleeper (2+1)   \n",
      "4                          FRESHBUS              Electric A/C Seater (2+2)   \n",
      "...                             ...                                    ...   \n",
      "10175        Chandralok Bus Service             A/C Seater / Sleeper (2+2)   \n",
      "10176              Sri Krishna Rath             A/C Seater / Sleeper (2+2)   \n",
      "10177        Chandralok Bus Service             A/C Seater / Sleeper (2+2)   \n",
      "10178           Jai Hanuman Travels             A/C Seater / Sleeper (2+2)   \n",
      "10179  Jai Mata Di Tour and Travels             A/C Seater / Sleeper (2+2)   \n",
      "\n",
      "      departing_time duration reaching_time star_rating  \n",
      "0              05:50  06h 35m         12:25    4.7\\n399  \n",
      "1              10:25  07h 30m         17:55    4.7\\n360  \n",
      "2              11:20  07h 30m         18:50    4.7\\n318  \n",
      "3              15:20  05h 49m         21:09     3.7\\n69  \n",
      "4              23:20  06h 25m         05:45    4.6\\n509  \n",
      "...              ...      ...           ...         ...  \n",
      "10175          21:00  02h 30m         23:30         New  \n",
      "10176          21:00  02h 00m         23:00         1.6  \n",
      "10177          21:10  02h 20m         23:30         New  \n",
      "10178          22:20  01h 55m         00:15         2.6  \n",
      "10179          22:40  01h 50m         00:30         2.3  \n",
      "\n",
      "[10180 rows x 8 columns]\n"
     ]
    }
   ],
   "source": [
    "# merging all csv files \n",
    "final_redbus_data_2= pd.concat( \n",
    "    map(pd.read_csv, ['df_all_apsrtc.csv', 'df_all_krtc.csv','df_all_tsrtc.csv','df_all_krtc.csv','df_all_hrtc.csv','df_all_astc.csv','df_all_wbtc.csv','df_all_cturtc.csv','df_all_pepsu.csv','df_all_bsrtc.csv']), ignore_index=True) \n",
    "print(final_redbus_data_2)"
   ]
  },
  {
   "cell_type": "code",
   "execution_count": 11,
   "metadata": {},
   "outputs": [
    {
     "data": {
      "text/plain": [
       "route_name        object\n",
       "route_link        object\n",
       "busname           object\n",
       "bustype           object\n",
       "departing_time    object\n",
       "duration          object\n",
       "reaching_time     object\n",
       "star_rating       object\n",
       "dtype: object"
      ]
     },
     "execution_count": 11,
     "metadata": {},
     "output_type": "execute_result"
    }
   ],
   "source": [
    "final_redbus_data_2.dtypes"
   ]
  },
  {
   "cell_type": "code",
   "execution_count": 24,
   "metadata": {},
   "outputs": [],
   "source": [
    "final_redbus_data_2 = final_redbus_data.fillna(0)"
   ]
  },
  {
   "cell_type": "code",
   "execution_count": 27,
   "metadata": {},
   "outputs": [
    {
     "name": "stderr",
     "output_type": "stream",
     "text": [
      "/var/folders/pk/yv119hjs3_34653qn5_6djlh0000gn/T/ipykernel_21286/3021666390.py:5: FutureWarning: A value is trying to be set on a copy of a DataFrame or Series through chained assignment using an inplace method.\n",
      "The behavior will change in pandas 3.0. This inplace method will never work because the intermediate object on which we are setting values always behaves as a copy.\n",
      "\n",
      "For example, when doing 'df[col].method(value, inplace=True)', try using 'df.method({col: value}, inplace=True)' or df[col] = df[col].method(value) instead, to perform the operation inplace on the original object.\n",
      "\n",
      "\n",
      "  final_redbus_data[\"star_rating\"].fillna(0,inplace=True)\n"
     ]
    }
   ],
   "source": [
    "final_redbus_data_2[\"star_rating\"]=_final_redbus_data_2[\"star_rating\"].str.replace(\"New\",\"\")\n",
    "_final_redbus_data_2[\"star_rating\"]=_final_redbus_data_2[\"star_rating\"].str.strip()\n",
    "_final_redbus_data_2[\"star_rating\"]=_final_redbus_data_2[\"star_rating\"].str.split().str[0]\n",
    "_final_redbus_data_2[\"star_rating\"]=pd.to_numeric(_final_redbus_data_2[\"star_rating\"], errors='coerce')\n",
    "_final_redbus_data_2[\"star_rating\"].fillna(0,inplace=True)"
   ]
  },
  {
   "cell_type": "code",
   "execution_count": 28,
   "metadata": {},
   "outputs": [
    {
     "name": "stdout",
     "output_type": "stream",
     "text": [
      "<class 'pandas.core.frame.DataFrame'>\n",
      "RangeIndex: 10180 entries, 0 to 10179\n",
      "Data columns (total 8 columns):\n",
      " #   Column          Non-Null Count  Dtype  \n",
      "---  ------          --------------  -----  \n",
      " 0   route_name      10180 non-null  object \n",
      " 1   route_link      10180 non-null  object \n",
      " 2   busname         10180 non-null  object \n",
      " 3   bustype         10180 non-null  object \n",
      " 4   departing_time  10180 non-null  object \n",
      " 5   duration        10180 non-null  object \n",
      " 6   reaching_time   10180 non-null  object \n",
      " 7   star_rating     10180 non-null  float64\n",
      "dtypes: float64(1), object(7)\n",
      "memory usage: 636.4+ KB\n"
     ]
    }
   ],
   "source": [
    "final_redbus_data_2.info()"
   ]
  },
  {
   "cell_type": "code",
   "execution_count": null,
   "metadata": {},
   "outputs": [],
   "source": [
    "dir='/Users/mohamedafrith/Desktop/redbus_project'\n",
    "filename='final_redbus_data_2.csv'\n",
    "path=f'{dir}/{filename}'\n",
    "final_redbus_data_2.to_csv(path,index=False)"
   ]
  }
 ],
 "metadata": {
  "kernelspec": {
   "display_name": ".venv",
   "language": "python",
   "name": "python3"
  },
  "language_info": {
   "codemirror_mode": {
    "name": "ipython",
    "version": 3
   },
   "file_extension": ".py",
   "mimetype": "text/x-python",
   "name": "python",
   "nbconvert_exporter": "python",
   "pygments_lexer": "ipython3",
   "version": "3.11.5"
  }
 },
 "nbformat": 4,
 "nbformat_minor": 2
}
