{
 "cells": [
  {
   "cell_type": "code",
   "execution_count": 1,
   "metadata": {},
   "outputs": [],
   "source": [
    "from selenium import webdriver\n",
    "from selenium.webdriver.common.by import By\n",
    "from selenium.webdriver.common.keys import Keys\n",
    "from selenium.webdriver.support.ui import WebDriverWait\n",
    "from selenium.webdriver.support import expected_conditions as EC\n",
    "from selenium.webdriver.common.action_chains import ActionChains\n",
    "import time\n",
    "import pandas as pd\n",
    "def scroll():\n",
    "    last_height = driver.execute_script(\"return document.body.scrollHeight\")\n",
    "\n",
    "    while True:\n",
    "\n",
    "        # Scroll down to the bottom in order to load all the buses\n",
    "\n",
    "        driver.execute_script(\"window.scrollTo(0, document.body.scrollHeight);\")\n",
    "\n",
    "        # Wait for page to load\n",
    "\n",
    "        time.sleep(2)\n",
    "\n",
    "        # Calculate new scroll height and compare with last scroll height\n",
    "\n",
    "        new_height = driver.execute_script(\"return document.body.scrollHeight\")\n",
    "\n",
    "        # If it is the same height then it is at the end of the page\n",
    "        if new_height == last_height:\n",
    "            break\n",
    "\n",
    "        last_height = new_height"
   ]
  },
  {
   "cell_type": "code",
   "execution_count": 2,
   "metadata": {},
   "outputs": [
    {
     "name": "stdout",
     "output_type": "stream",
     "text": [
      "done\n"
     ]
    }
   ],
   "source": [
    "\n",
    "df=pd.read_csv(\"df_ktcl.csv\")\n",
    "driver = webdriver.Chrome()\n",
    "wait = WebDriverWait(driver, 30)\n",
    "route_name=[]\n",
    "route_link=[]\n",
    "busname=[]\n",
    "bustype=[]\n",
    "departing_time=[]\n",
    "duration=[]\n",
    "reaching_time=[]\n",
    "star_rating=[]\n",
    "\n",
    "for i,r in df.iterrows():\n",
    "    link=r[\"route_link\"]\n",
    "    routes=r[\"route_name\"]\n",
    "\n",
    "    driver.get(link)\n",
    "    time.sleep(5)\n",
    "    linking=driver.find_elements(By.XPATH,f\"//a[contains(@href, '{link}')]\")\n",
    "    for i in linking:\n",
    "        i.click()\n",
    "        time.sleep(3)\n",
    "\n",
    "    try:\n",
    "        driver.find_element(By.XPATH, \"//div[@class='button']\").click()\n",
    "    except:\n",
    "        continue\n",
    "    time.sleep(3)\n",
    "    scroll()\n",
    "\n",
    "\n",
    "    #scraping bus details\n",
    "    bus_name=driver.find_elements(By.XPATH,\"//div[@class='travels lh-24 f-bold d-color']\")\n",
    "    bus_type=driver.find_elements(By.XPATH,\"//div[@class='bus-type f-12 m-top-16 l-color evBus']\")\n",
    "    dp_time=driver.find_elements(By.XPATH,\"//div[@class='dp-time f-19 d-color f-bold']\")\n",
    "    duration_time=driver.find_elements(By.XPATH,\"//div[@class='dur l-color lh-24']\")\n",
    "    arr_time=driver.find_elements(By.XPATH,\"//div[@class='bp-time f-19 d-color disp-Inline']\")\n",
    "    try:\n",
    "        str_rat=driver.find_elements(By.XPATH,\"//div[@class='clearfix row-one']/div[@class='column-six p-right-10 w-10 fl']\")\n",
    "\n",
    "    except:\n",
    "        continue\n",
    "\n",
    "\n",
    "    for a in bus_name:\n",
    "        busname.append(a.text)\n",
    "        route_link.append(link)\n",
    "        route_name.append(routes)\n",
    "    for b in bus_type:\n",
    "        bustype.append(b.text)\n",
    "    for c in dp_time:\n",
    "        departing_time.append(c.text)\n",
    "    for d in duration_time:\n",
    "        duration.append(d.text)\n",
    "    for e in arr_time:\n",
    "        reaching_time.append(e.text)\n",
    "    for f in str_rat:\n",
    "        star_rating.append(f.text)\n",
    "\n",
    "driver.quit()\n",
    "print('done')\n",
    "\n",
    "\n"
   ]
  },
  {
   "cell_type": "code",
   "execution_count": 3,
   "metadata": {},
   "outputs": [
    {
     "data": {
      "text/plain": [
       "52"
      ]
     },
     "execution_count": 3,
     "metadata": {},
     "output_type": "execute_result"
    }
   ],
   "source": [
    "len(busname)"
   ]
  },
  {
   "cell_type": "code",
   "execution_count": 5,
   "metadata": {},
   "outputs": [],
   "source": [
    "import pandas as pd\n",
    "data={'route_name':route_name,\n",
    "      'route_link':route_link,\n",
    "      'busname':busname,\n",
    "      'bustype':bustype,\n",
    "      'departing_time':departing_time,\n",
    "      'duration':duration,\n",
    "      'reaching_time':reaching_time,\n",
    "      'star_rating':star_rating}\n",
    "df_all_ktcl=pd.DataFrame(data)"
   ]
  },
  {
   "cell_type": "code",
   "execution_count": null,
   "metadata": {},
   "outputs": [],
   "source": [
    "dir='/Users/mohamedafrith/Desktop/redbus_project'\n",
    "filename='df_all_ktcl.csv'\n",
    "path=f'{dir}/{filename}'\n",
    "df_all_ktcl.to_csv(path,index=False)"
   ]
  }
 ],
 "metadata": {
  "kernelspec": {
   "display_name": ".venv",
   "language": "python",
   "name": "python3"
  },
  "language_info": {
   "codemirror_mode": {
    "name": "ipython",
    "version": 3
   },
   "file_extension": ".py",
   "mimetype": "text/x-python",
   "name": "python",
   "nbconvert_exporter": "python",
   "pygments_lexer": "ipython3",
   "version": "3.11.5"
  }
 },
 "nbformat": 4,
 "nbformat_minor": 2
}
